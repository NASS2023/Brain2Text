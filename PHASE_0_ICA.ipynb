{
 "cells": [
  {
   "cell_type": "code",
   "execution_count": 1,
   "metadata": {},
   "outputs": [
    {
     "name": "stderr",
     "output_type": "stream",
     "text": [
      "/Users/anubhavsarkar/opt/anaconda3/lib/python3.9/site-packages/scipy/__init__.py:146: UserWarning: A NumPy version >=1.16.5 and <1.23.0 is required for this version of SciPy (detected version 1.23.5\n",
      "  warnings.warn(f\"A NumPy version >={np_minversion} and <{np_maxversion}\"\n"
     ]
    }
   ],
   "source": [
    "import pandas as pd\n",
    "import mne_bids\n",
    "import matplotlib.pyplot as plt\n",
    "import mne\n",
    "import os\n",
    "import numpy as np"
   ]
  },
  {
   "cell_type": "code",
   "execution_count": 2,
   "metadata": {},
   "outputs": [],
   "source": [
    "subs = ['1','2','3','4','5','6','7','8','9','10','11','12','13','14','15','16','17','18','19','20','21','22','23','24','25','26','27']\n",
    "sess = ['0','1']\n",
    "tasks = ['0','1','2','3']"
   ]
  },
  {
   "cell_type": "code",
   "execution_count": null,
   "metadata": {},
   "outputs": [],
   "source": [
    "ica = mne.preprocessing.ICA(n_components=20, random_state=97, max_iter=800)\n",
    "results_folder = 'results'\n",
    "os.makedirs(results_folder, exist_ok=True)\n",
    "for sub in subs:\n",
    "    for ses in sess:\n",
    "        for task in tasks:\n",
    "            bids_path = mne_bids.BIDSPath(\n",
    "            subject=sub,\n",
    "            session=ses,\n",
    "            task=task,\n",
    "            datatype=\"meg\",\n",
    "            root='',\n",
    "            )\n",
    "            \n",
    "            try:\n",
    "                raw = mne_bids.read_raw_bids(bids_path)\n",
    "            except FileNotFoundError:\n",
    "                print(\"missing\", sub, ses, task)\n",
    "                continue\n",
    "            \n",
    "            raw.load_data().filter(0.5, 30.0, n_jobs=1)\n",
    "\n",
    "            raw = raw.pick_types(meg=True, misc=False, eeg=False, eog=False, ecg=False)\n",
    "            ica.fit(raw)\n",
    "            raw.load_data()\n",
    "\n",
    "            ica.apply(raw)\n",
    "            plot_name = f'sub-{sub}_ses-{ses}_task-{task}.png'\n",
    "            plot_path = os.path.join(results_folder, plot_name)\n",
    "\n",
    "            # Save the raw.plot() to the \"results\" folder with the proper name\n",
    "            raw.plot(show=False)  # Set show=False to prevent displaying the plot\n",
    "            plt.savefig(plot_path)\n",
    "            plt.close()  # Close the plot after saving to prevent multiple plots in memory\n",
    "\n",
    "            print(f\"Plot saved for sub-{sub}, ses-{ses}, task-{task} in {plot_path}\")\n",
    "\n",
    "\n"
   ]
  },
  {
   "cell_type": "code",
   "execution_count": 4,
   "metadata": {},
   "outputs": [],
   "source": [
    "import os\n",
    "import shutil\n",
    "image_folder = \"results\"\n",
    "label_mapping = {}\n",
    "for filename in os.listdir(image_folder):\n",
    "    if filename.endswith(\".png\"):  # Make sure to filter only image files\n",
    "        image_name = os.path.splitext(filename)[0]  # Extract image name without extension\n",
    "        label = image_name[-1]  # Assuming the label is the last character before the extension\n",
    "        \n",
    "        # Create a mapping between image number and label\n",
    "        label_mapping[f\"results/{filename}\"] = f\"{label}\"\n",
    "# Now you have a dictionary where keys are image numbers and values are corresponding labels\n"
   ]
  },
  {
   "cell_type": "code",
   "execution_count": 5,
   "metadata": {},
   "outputs": [],
   "source": [
    "\n",
    "image_folder = \"results\"\n",
    "output_folder = \"organized_results\"  # Specify the name of the output folder\n",
    "\n",
    "# Create the output folder if it doesn't exist\n",
    "os.makedirs(output_folder, exist_ok=True)\n",
    "\n",
    "# Mapping between label and class subfolder\n",
    "label_to_class = {\n",
    "    \"0\": \"lw1\",\n",
    "    \"1\": \"cable_spool_fort\",\n",
    "    \"2\": \"easy_money\",\n",
    "    \"3\": \"The_Black_Widow\"\n",
    "    # Add more labels and corresponding class subfolders if needed\n",
    "}\n",
    "\n",
    "# Iterate through the label_mapping dictionary and organize images\n",
    "for image_path, label in label_mapping.items():\n",
    "    class_folder = os.path.join(output_folder, label_to_class[label])\n",
    "    os.makedirs(class_folder, exist_ok=True)\n",
    "\n",
    "    # Move the image to the corresponding class subfolder\n",
    "    shutil.move(image_path, os.path.join(class_folder, os.path.basename(image_path)))\n",
    "\n",
    "# Now your images are organized into class subfolders within the 'organized_results' folder"
   ]
  },
  {
   "cell_type": "code",
   "execution_count": null,
   "metadata": {},
   "outputs": [],
   "source": []
  }
 ],
 "metadata": {
  "kernelspec": {
   "display_name": "Python 3.9.12 ('base')",
   "language": "python",
   "name": "python3"
  },
  "language_info": {
   "codemirror_mode": {
    "name": "ipython",
    "version": 3
   },
   "file_extension": ".py",
   "mimetype": "text/x-python",
   "name": "python",
   "nbconvert_exporter": "python",
   "pygments_lexer": "ipython3",
   "version": "3.9.12"
  },
  "orig_nbformat": 4,
  "vscode": {
   "interpreter": {
    "hash": "5831a55cbceefa2f92fd4d3ec1ea49f7cf1d63567d0d2c60bc3cfc5d8e30f024"
   }
  }
 },
 "nbformat": 4,
 "nbformat_minor": 2
}
